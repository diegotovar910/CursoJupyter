{
 "cells": [
  {
   "cell_type": "markdown",
   "metadata": {},
   "source": [
    "<center>\n",
    "    <img src=\"https://cf-courses-data.s3.us.cloud-object-storage.appdomain.cloud/IBMDeveloperSkillsNetwork-DS0105EN-SkillsNetwork/labs/Module2/images/SN_web_lightmode.png\" width=\"300\" alt=\"cognitiveclass.ai logo\">\n",
    "</center>\n"
   ]
  },
  {
   "cell_type": "markdown",
   "metadata": {},
   "source": [
    "#### Add your code below following the instructions given in the course\n"
   ]
  },
  {
   "cell_type": "markdown",
   "metadata": {},
   "source": [
    "NOTEBOOK JUPYTER"
   ]
  },
  {
   "cell_type": "markdown",
   "metadata": {},
   "source": [
    "Este cuaderno muestra ejemplos básicos de cómo trabajar con Jupyter Notebook y algunas herramientas de la ciencia de datos."
   ]
  },
  {
   "cell_type": "markdown",
   "metadata": {},
   "source": [
    "Lenguajes de programación para Data Science\n",
    "1. Python\n",
    "2. R\n",
    "3. SQL\n",
    "4. Julia"
   ]
  },
  {
   "cell_type": "markdown",
   "metadata": {},
   "source": [
    "Librerías utilizadas para Data Science\n",
    "1. Pandas\n",
    "2. NumPy\n",
    "3. Matplotlib\n",
    "4. Scikit-learn"
   ]
  },
  {
   "cell_type": "markdown",
   "metadata": {},
   "source": [
    "| Herramienta        | Descripción                                |\n",
    "|--------------------|--------------------------------------------|\n",
    "| Jupyter Notebook   | Entorno interactivo para código en Python   |\n",
    "| RStudio            | IDE para R                                 |\n",
    "| Apache Spark       | Framework para procesamiento de grandes datos|\n",
    "| TensorFlow         | Biblioteca para aprendizaje profundo       |"
   ]
  },
  {
   "cell_type": "markdown",
   "metadata": {},
   "source": [
    "- **Suma (`+`)**: `2 + 3` resulta en `5`\n",
    "- **Resta (`-`)**: `7 - 2` resulta en `5`\n",
    "- **Multiplicación (`*`)**: `4 * 3` resulta en `12`\n",
    "- **División (`/`)**: `10 / 2` resulta en `5.0`# Código para multiplicar y sumar números\n",
    "a = 5\n",
    "b = 10\n",
    "resultado = a * b + b\n",
    "resultado\n",
    "- **División entera (`//`)**: `10 // 3` resulta en `3`\n",
    "- **Módulo (`%`)**: `10 % 3` resulta en `1` (resto de la división)\n",
    "- **Exponenciación (`**`)**: `2 ** 3` resulta en `8` (2 elevado a la potencia de 3)"
   ]
  },
  {
   "cell_type": "code",
   "execution_count": 1,
   "metadata": {
    "tags": []
   },
   "outputs": [
    {
     "data": {
      "text/plain": [
       "60"
      ]
     },
     "execution_count": 1,
     "metadata": {},
     "output_type": "execute_result"
    }
   ],
   "source": [
    "# Código para multiplicar y sumar números\n",
    "a = 5\n",
    "b = 10\n",
    "resultado = a * b + b\n",
    "resultado"
   ]
  },
  {
   "cell_type": "code",
   "execution_count": 2,
   "metadata": {
    "tags": []
   },
   "outputs": [
    {
     "data": {
      "text/plain": [
       "2.0"
      ]
     },
     "execution_count": 2,
     "metadata": {},
     "output_type": "execute_result"
    }
   ],
   "source": [
    "# Código para convertir minutos a horas\n",
    "minutos = 120\n",
    "horas = minutos / 60\n",
    "horas"
   ]
  },
  {
   "cell_type": "code",
   "execution_count": 3,
   "metadata": {
    "tags": []
   },
   "outputs": [
    {
     "name": "stdout",
     "output_type": "stream",
     "text": [
      "Aprender Python\n",
      "Comprender Jupyter\n",
      "Utilizar bibliotecas de ciencia de datos\n"
     ]
    }
   ],
   "source": [
    "# Lista de Objetivos\n",
    "objetivos = [\"Aprender Python\", \"Comprender Jupyter\", \"Utilizar bibliotecas de ciencia de datos\"]\n",
    "for objetivo in objetivos:\n",
    "    print(objetivo)"
   ]
  },
  {
   "cell_type": "markdown",
   "metadata": {},
   "source": [
    "## Autor\n",
    "Nombre del autor: *Diego Tovar*"
   ]
  }
 ],
 "metadata": {
  "kernelspec": {
   "display_name": "Python",
   "language": "python",
   "name": "conda-env-python-py"
  },
  "language_info": {
   "codemirror_mode": {
    "name": "ipython",
    "version": 3
   },
   "file_extension": ".py",
   "mimetype": "text/x-python",
   "name": "python",
   "nbconvert_exporter": "python",
   "pygments_lexer": "ipython3",
   "version": "3.7.12"
  }
 },
 "nbformat": 4,
 "nbformat_minor": 4
}
